{
 "cells": [
  {
   "cell_type": "code",
   "execution_count": 4,
   "id": "f24f4f8a-b9e1-411a-835b-3f40e1444c92",
   "metadata": {},
   "outputs": [
    {
     "name": "stdout",
     "output_type": "stream",
     "text": [
      "cuda\n",
      "1.10.1\n"
     ]
    }
   ],
   "source": [
    "import numpy as np\n",
    "import torch\n",
    "import torch.nn as nn\n",
    "from torch.autograd import Variable as v\n",
    "import scipy.special as scp\n",
    "import random\n",
    "from concurrent import futures\n",
    "#import Exa_sol as ex\n",
    "import time\n",
    "import matplotlib.pyplot as plt\n",
    "import math\n",
    "from tqdm import tqdm\n",
    "is_gpu = torch.cuda.is_available()\n",
    "if is_gpu:\n",
    "    id = 0\n",
    "    torch.cuda.set_device(id)\n",
    "    \n",
    "#gpu_nums = torch.cuda.device_count()\n",
    "#gpu_index = torch.cuda.current_device()\n",
    "#print(is_gpu,gpu_nums,gpu_index)\n",
    "device = torch.device('cuda' if is_gpu else 'cpu')\n",
    "\n",
    "#device = torch.device('cpu')\n",
    "print(device)\n",
    "torch.set_default_tensor_type('torch.FloatTensor')\n",
    "print(torch.__version__)\n",
    "\n",
    "import sys\n",
    "sys.path.append('./Boundary2Solution_model')\n",
    "sys.path.append('./Boundary2Solution_model/model')\n",
    "import GenData as GD\n",
    "import importlib\n",
    "import MyUtils\n",
    "import PointNetv1 as mynet1\n",
    "import PointNetv2 as mynet2\n",
    "import PointNetv3 as mynet3\n",
    "import PointNetv3v2 as mynet4\n",
    "import PointNet2v1andSelfAttention as mynet5\n",
    "import IO \n",
    "\n",
    "from neuralop.models import FNO1d\n",
    "operator = FNO1d(n_modes=(6, 6), hidden_channels=64,\n",
    "                in_channels=3, out_channels=1, n_modes_height=6)\n"
   ]
  },
  {
   "cell_type": "code",
   "execution_count": 2,
   "id": "77f23384-6583-4e8a-8b3d-a68571fb5f94",
   "metadata": {},
   "outputs": [],
   "source": [
    "net_num = 2\n",
    "if net_num == 1:\n",
    "    net1 = mynet1.PointNet(3,1)\n",
    "elif net_num == 2:\n",
    "    net1 = mynet2.PointNet(3,1)\n",
    "elif net_num == 4:\n",
    "    net1 = mynet4.PointNet1(2,1,1)\n",
    "elif net_num == 5:\n",
    "    net1 = mynet5.PointNet()\n",
    "elif net_num == 6:\n",
    "    net1 = FNO1d(n_modes=(6, 6), hidden_channels=64,\n",
    "                in_channels=3, out_channels=1, n_modes_height=6)\n",
    "elif net_num == 7:\n",
    "    net1 = PointNet2()"
   ]
  },
  {
   "cell_type": "markdown",
   "id": "3a9ccfb5-e4aa-48c3-ac1e-07acb93fddda",
   "metadata": {},
   "source": [
    "### smooth case"
   ]
  },
  {
   "cell_type": "code",
   "execution_count": 3,
   "id": "0a8987bb-e2d3-4c28-b459-8d9f70bcbb6a",
   "metadata": {},
   "outputs": [],
   "source": [
    "# 8000 samples, 7600 training samples and 400 test samples\n",
    "from scipy.io import loadmat\n",
    "x_train = torch.zeros(7600,2000,2)\n",
    "r_train = torch.zeros(7600,2000,2)\n",
    "normal_train = torch.zeros(7600,2000,2)\n",
    "x_in_train = torch.zeros(7600,1000,2)\n",
    "for i in range(5,9):\n",
    "    for j in range(1900):\n",
    "        data = loadmat(f'./smooth_data/5678/{i}/{j+1}.mat')\n",
    "        x_train[(i - 5) * 1900 + j] = torch.tensor(data['x'])\n",
    "        r_train[(i - 5) * 1900 + j] = torch.tensor(data['r'])\n",
    "        normal_train[(i - 5) * 1900 + j] = torch.tensor(data['normal'])\n",
    "        x_in_train[(i - 5) * 1900 + j] = torch.tensor(data['x_in'])\n",
    "x_test = torch.zeros(400,2000,2)\n",
    "r_test = torch.zeros(400,2000,2)\n",
    "normal_test = torch.zeros(400,2000,2)\n",
    "x_in_test = torch.zeros(400,1000,2)\n",
    "for i in range(5,9):\n",
    "    for j in range(100):\n",
    "        data = loadmat(f'./smooth_data/5678/{i}/{j+1901}.mat')\n",
    "        x_test[(i - 5) * 100 + j] = torch.tensor(data['x'])\n",
    "        r_test[(i - 5) * 100 + j] = torch.tensor(data['r'])\n",
    "        normal_test[(i - 5) * 100 + j] = torch.tensor(data['normal'])\n",
    "        x_in_test[(i - 5) * 100 + j] = torch.tensor(data['x_in'])\n"
   ]
  },
  {
   "cell_type": "code",
   "execution_count": 25,
   "id": "bc713709-69e3-4e1f-925b-f633774154fd",
   "metadata": {},
   "outputs": [],
   "source": [
    "# construct integral matrix\n",
    "def G_bd_smooth1(x,h,normal):\n",
    "    sample_num, N, _ = x.shape\n",
    "    G2 = torch.zeros(sample_num,N,N)\n",
    "    \n",
    "    KP = torch.ones(N);\n",
    "    KP[N-1] = KP[1] = 1 + 1.825748064736159e+00\n",
    "    KP[N-2] = KP[2] = 1 - 1.325748064736159e+00\n",
    "    \n",
    "    j_index = np.array([j for j in range(N)])\n",
    "    \n",
    "    for p in (range(sample_num)):\n",
    "        for i in range(N):\n",
    "            r = x[p,:,:]-x[p,i,:]\n",
    "            p_n = (h[p]*r*normal[p]).sum(axis=1)\n",
    "            d = (np.sqrt(r[:,0]**2+r[:,1]**2))\n",
    "            G2[p,i,:] = ( -1/(2*np.pi)*(p_n)/(d*d))*KP[j_index-i]\n",
    "            G2[p,i,i] = -1/2\n",
    "    return G2   \n",
    "def G_bd_smooth(x,h,normal,device = torch.device('cpu')):\n",
    "    sample_num, N, _ = x.shape\n",
    "    G2 = torch.zeros(sample_num,N,N).to(device)\n",
    "    \n",
    "    KP = np.ones(N)\n",
    "    KP[N-1] = KP[1] = 1 + 1.825748064736159e+00\n",
    "    KP[N-2] = KP[2] = 1 - 1.325748064736159e+00\n",
    "    \n",
    "    j_index = np.array([j for j in range(N)])\n",
    "    KP0 = torch.tensor(np.array([KP[(j_index-i)%N] for i in range(N)])).to(device)\n",
    "    \n",
    "    \n",
    "    for p in (range(sample_num)):\n",
    "        x1 = x[p,:,0]\n",
    "        x2 = x[p,:,1]\n",
    "        r1 = (x1 - x1[:,np.newaxis]).reshape(N,N,1)\n",
    "        r2 = (x2 - x2[:,np.newaxis]).reshape(N,N,1)\n",
    "        r = torch.cat((r1,r2),2)\n",
    "        p_n = (h[p]*r*normal[p]).sum(axis=2)\n",
    "        d = (torch.sqrt(r[:,:,0]**2+r[:,:,1]**2))\n",
    "        G2[p,:,:] = ( -1/(2*np.pi)*(p_n)/(d*d))*KP0\n",
    "        G2[p,j_index,j_index] = -1/2\n",
    "    return G2 \n",
    "\n",
    "def G_in_smooth(x, h, normal, x_in):\n",
    "    sample_num, N, _ = x.shape\n",
    "    _, N_in, _ = x_in.shape\n",
    "    G2 = torch.zeros(sample_num,N_in,N)\n",
    "    for p in range(sample_num):\n",
    "        for i in range(N_in):\n",
    "            r = x[p] - x_in[p,i]\n",
    "            p_n = (h[p]*r*normal[p]).sum(axis=1)\n",
    "            d = (np.sqrt(r[:,0]**2+r[:,1]**2))\n",
    "            G2[p,i] = -1 / (2*np.pi) * (p_n)/(d*d)\n",
    "    return G2\n",
    "\n",
    "sample_num = 5\n",
    "sample = np.random.randint(0,7600,sample_num)\n",
    "x = x_train[sample]\n",
    "r = r_train[sample]\n",
    "h = (r**2).sum(axis=2).sqrt().reshape(sample_num,-1,1)\n",
    "normal = normal_train[sample]\n",
    "x_in = x_in_train[sample]\n",
    "G20 = G_bd_smooth(x,h,normal)\n",
    "G21 = G_bd_smooth1(x,h,normal)\n",
    "u = (x[:,:,0]*x[:,:,1] + 2*x[:,:,0] + 3*x[:,:,1] + 1).reshape(sample_num, -1, 1)\n",
    "u_in = x_in[:,:,0]*x_in[:,:,1] + 2*x_in[:,:,0] + 3*x_in[:,:,1] + 1\n",
    "x0 = torch.cat((x,u),2)#.to(device)\n",
    "G2 = G2#.to(device)\n",
    "u = u#.to(device)\n",
    "\n"
   ]
  },
  {
   "cell_type": "code",
   "execution_count": 123,
   "id": "b9a9cec1-e75f-4ec5-8323-e38f50d09867",
   "metadata": {
    "collapsed": true,
    "jupyter": {
     "outputs_hidden": true
    },
    "tags": []
   },
   "outputs": [
    {
     "name": "stderr",
     "output_type": "stream",
     "text": [
      "  1%|          | 79/7600 [00:48<1:16:55,  1.63it/s]\n"
     ]
    },
    {
     "ename": "KeyboardInterrupt",
     "evalue": "",
     "output_type": "error",
     "traceback": [
      "\u001b[0;31m---------------------------------------------------------------------------\u001b[0m",
      "\u001b[0;31mKeyboardInterrupt\u001b[0m                         Traceback (most recent call last)",
      "Cell \u001b[0;32mIn [123], line 7\u001b[0m\n\u001b[1;32m      5\u001b[0m h \u001b[38;5;241m=\u001b[39m (r\u001b[38;5;241m*\u001b[39m\u001b[38;5;241m*\u001b[39m\u001b[38;5;241m2\u001b[39m)\u001b[38;5;241m.\u001b[39msum(axis\u001b[38;5;241m=\u001b[39m\u001b[38;5;241m2\u001b[39m)\u001b[38;5;241m.\u001b[39msqrt()\u001b[38;5;241m.\u001b[39mreshape(\u001b[38;5;241m1\u001b[39m,\u001b[38;5;241m-\u001b[39m\u001b[38;5;241m1\u001b[39m,\u001b[38;5;241m1\u001b[39m)\n\u001b[1;32m      6\u001b[0m normal \u001b[38;5;241m=\u001b[39m normal_train[i:i\u001b[38;5;241m+\u001b[39m\u001b[38;5;241m1\u001b[39m]\n\u001b[0;32m----> 7\u001b[0m G2 \u001b[38;5;241m=\u001b[39m \u001b[43mG_bd_smooth\u001b[49m\u001b[43m(\u001b[49m\u001b[43mx\u001b[49m\u001b[43m,\u001b[49m\u001b[43mh\u001b[49m\u001b[43m,\u001b[49m\u001b[43mnormal\u001b[49m\u001b[43m)\u001b[49m\u001b[38;5;241m.\u001b[39msqueeze()\n\u001b[1;32m      8\u001b[0m u \u001b[38;5;241m=\u001b[39m (x[:,:,\u001b[38;5;241m0\u001b[39m]\u001b[38;5;241m*\u001b[39mx[:,:,\u001b[38;5;241m1\u001b[39m] \u001b[38;5;241m+\u001b[39m \u001b[38;5;241m2\u001b[39m\u001b[38;5;241m*\u001b[39mx[:,:,\u001b[38;5;241m0\u001b[39m] \u001b[38;5;241m+\u001b[39m \u001b[38;5;241m3\u001b[39m\u001b[38;5;241m*\u001b[39mx[:,:,\u001b[38;5;241m1\u001b[39m] \u001b[38;5;241m+\u001b[39m \u001b[38;5;241m1\u001b[39m)\u001b[38;5;241m.\u001b[39mreshape(\u001b[38;5;241m-\u001b[39m\u001b[38;5;241m1\u001b[39m)\n\u001b[1;32m      9\u001b[0m density_all[i] \u001b[38;5;241m=\u001b[39m np\u001b[38;5;241m.\u001b[39mlinalg\u001b[38;5;241m.\u001b[39msolve(G2\u001b[38;5;241m.\u001b[39mnumpy(), u\u001b[38;5;241m.\u001b[39mnumpy())\n",
      "Cell \u001b[0;32mIn [61], line 16\u001b[0m, in \u001b[0;36mG_bd_smooth\u001b[0;34m(x, h, normal)\u001b[0m\n\u001b[1;32m     14\u001b[0m         p_n \u001b[38;5;241m=\u001b[39m (h[p]\u001b[38;5;241m*\u001b[39mr\u001b[38;5;241m*\u001b[39mnormal[p])\u001b[38;5;241m.\u001b[39msum(axis\u001b[38;5;241m=\u001b[39m\u001b[38;5;241m1\u001b[39m)\n\u001b[1;32m     15\u001b[0m         d \u001b[38;5;241m=\u001b[39m (np\u001b[38;5;241m.\u001b[39msqrt(r[:,\u001b[38;5;241m0\u001b[39m]\u001b[38;5;241m*\u001b[39m\u001b[38;5;241m*\u001b[39m\u001b[38;5;241m2\u001b[39m\u001b[38;5;241m+\u001b[39mr[:,\u001b[38;5;241m1\u001b[39m]\u001b[38;5;241m*\u001b[39m\u001b[38;5;241m*\u001b[39m\u001b[38;5;241m2\u001b[39m))\n\u001b[0;32m---> 16\u001b[0m         G2[p,i,:] \u001b[38;5;241m=\u001b[39m ( \u001b[38;5;241m-\u001b[39m\u001b[38;5;241m1\u001b[39m\u001b[38;5;241m/\u001b[39m(\u001b[38;5;241m2\u001b[39m\u001b[38;5;241m*\u001b[39mnp\u001b[38;5;241m.\u001b[39mpi)\u001b[38;5;241m*\u001b[39m(p_n)\u001b[38;5;241m/\u001b[39m(d\u001b[38;5;241m*\u001b[39md))\u001b[38;5;241m*\u001b[39m\u001b[43mKP\u001b[49m\u001b[43m[\u001b[49m\u001b[43mj_index\u001b[49m\u001b[38;5;241;43m-\u001b[39;49m\u001b[43mi\u001b[49m\u001b[43m]\u001b[49m\n\u001b[1;32m     17\u001b[0m         G2[p,i,i] \u001b[38;5;241m=\u001b[39m \u001b[38;5;241m-\u001b[39m\u001b[38;5;241m1\u001b[39m\u001b[38;5;241m/\u001b[39m\u001b[38;5;241m2\u001b[39m\n\u001b[1;32m     18\u001b[0m \u001b[38;5;28;01mreturn\u001b[39;00m G2\n",
      "\u001b[0;31mKeyboardInterrupt\u001b[0m: "
     ]
    }
   ],
   "source": [
    "density_all = np.zeros((7600, 2000))\n",
    "for i in tqdm(range(7600)):\n",
    "    x = x_train[i:i+1]\n",
    "    r = r_train[i:i+1]\n",
    "    h = (r**2).sum(axis=2).sqrt().reshape(1,-1,1)\n",
    "    normal = normal_train[i:i+1]\n",
    "    G2 = G_bd_smooth(x,h,normal).squeeze()\n",
    "    u = (x[:,:,0]*x[:,:,1] + 2*x[:,:,0] + 3*x[:,:,1] + 1).reshape(-1)\n",
    "    density_all[i] = np.linalg.solve(G2.numpy(), u.numpy())\n"
   ]
  },
  {
   "cell_type": "code",
   "execution_count": 109,
   "id": "9e279e9c-dbcf-4268-bd64-9526f27f51bd",
   "metadata": {
    "tags": []
   },
   "outputs": [
    {
     "name": "stderr",
     "output_type": "stream",
     "text": [
      "100%|██████████| 3000/3000 [14:58<00:00,  3.34it/s]\n"
     ]
    }
   ],
   "source": [
    "## training\n",
    "sample_num = 50\n",
    "Epoch = 3000\n",
    "optimzer1 = torch.optim.Adam(net1.parameters(net1),lr=0.0002)\n",
    "loss_all = np.zeros(Epoch+1)\n",
    "net1 = net1.to(device)\n",
    "x0 = x0.to(device)\n",
    "\n",
    "vertex_x = torch.zeros(sample_num,2,2)\n",
    "\n",
    "for epoch in tqdm(range(Epoch)):\n",
    "    \n",
    "    # resampling\n",
    "    if (epoch)%50==0:\n",
    "        sample = np.random.randint(0,7600,sample_num)\n",
    "        x = x_train[sample]\n",
    "        r = r_train[sample]\n",
    "        h = (r**2).sum(axis=2).sqrt().reshape(sample_num,-1,1)\n",
    "        normal = normal_train[sample]\n",
    "        G2 = G_bd_smooth(x,h,normal).to(device)\n",
    "        mx = x.mean(axis=1)\n",
    "        ux = x - mx[:,np.newaxis]\n",
    "        u = (ux[:,:,0]*ux[:,:,1] + ux[:,:,0] + ux[:,:,1] + 1).reshape(sample_num, -1, 1)\n",
    "\n",
    "        x0 = torch.cat((x,u),2).to(device)\n",
    "        u = u.to(device)        \n",
    "        \n",
    "    loss = 0\n",
    "    \n",
    "    \n",
    "    for i in range(sample_num):\n",
    "        if net_num==1:\n",
    "            x1 = (x0[i]).reshape(1,1,1000,3)\n",
    "            density = net1(x1)[0][0]\n",
    "        elif net_num==2:\n",
    "            x1 = (x0[i]).reshape(2000,3,1)\n",
    "            density = (net1(x1)).reshape(-1,1)\n",
    "        \n",
    "        G2_0 = G2[i]\n",
    "        u0 = u[i]\n",
    "        loss = loss + torch.mean(torch.pow((G2_0@density-u0),2))\n",
    "    optimzer1.zero_grad()\n",
    "    loss.backward()\n",
    "    optimzer1.step()\n",
    "    loss_all[epoch] = loss.cpu().detach().numpy() \n",
    "    \n",
    "    #if epoch%200==0:\n",
    "    #    save_variable(loss,'current_loss')"
   ]
  },
  {
   "cell_type": "code",
   "execution_count": 180,
   "id": "6aa7689f-eda3-4490-a5bf-84bc2c295794",
   "metadata": {},
   "outputs": [
    {
     "name": "stderr",
     "output_type": "stream",
     "text": [
      "100%|██████████| 2000/2000 [10:41<00:00,  3.12it/s]\n"
     ]
    }
   ],
   "source": [
    "\n",
    "# another training method, supervised learning\n",
    "density_all = np.load('./smooth_data/density/density1.npy')\n",
    "\n",
    "sample_num = 64\n",
    "Epoch = 2000\n",
    "optimzer1 = torch.optim.Adam(net1.parameters(net1),lr=0.0002)\n",
    "loss_all = np.zeros(Epoch+1)\n",
    "net1 = net1.to(device)\n",
    "x0 = x0.to(device)\n",
    "\n",
    "vertex_x = torch.zeros(sample_num,2,2)\n",
    "\n",
    "for epoch in tqdm(range(Epoch)):\n",
    "    \n",
    "    if (epoch)%50==0:\n",
    "        sample = np.random.randint(0,1900,sample_num)\n",
    "        x = x_train[sample]\n",
    "        u = (x[:,:,0]*x[:,:,1] + 2*x[:,:,0] + 3*x[:,:,1] + 1).reshape(sample_num, -1, 1)\n",
    "        x0 = torch.cat((x,u),2).to(device)\n",
    "        density0 = torch.tensor(density_all[sample]).cuda()\n",
    "        \n",
    "    loss = 0\n",
    "    \n",
    "    for i in range(sample_num):\n",
    "        if net_num==1:\n",
    "            x1 = (x0[i]).reshape(1,1,1000,3)\n",
    "            density = net1(x1)[0][0]\n",
    "        elif net_num==2:\n",
    "            x1 = (x0[i]).reshape(2000,3,1)\n",
    "            density = (net1(x1)).reshape(-1)\n",
    "        elif net_num == 7:\n",
    "            \n",
    "        loss = loss + torch.mean(torch.pow((density-density0[i]),2))\n",
    "    optimzer1.zero_grad()\n",
    "    loss.backward()\n",
    "    optimzer1.step()\n",
    "    loss_all[epoch] = loss.cpu().detach().numpy() \n",
    "    \n",
    "    #if epoch%200==0:\n",
    "    #    save_variable(loss,'current_loss')"
   ]
  },
  {
   "cell_type": "code",
   "execution_count": 107,
   "id": "68cd93d7-97eb-4e2a-bd65-1d56d34cbe88",
   "metadata": {},
   "outputs": [],
   "source": [
    "sample_num = 2\n",
    "sample = np.random.randint(0,10,sample_num)\n",
    "sample = [i for i in range(sample_num)]\n",
    "x = x_train[sample]\n",
    "r = r_train[sample]\n",
    "h = (r**2).sum(axis=2).sqrt().reshape(sample_num,-1,1)\n",
    "normal = normal_train[sample]\n",
    "x_in = x_in_train[sample]\n",
    "G2 = G_in_smooth(x,h,normal,x_in)\n",
    "\n",
    "mx = x.mean(axis=1)\n",
    "ux = x - mx[:,np.newaxis]\n",
    "u = (ux[:,:,0]*ux[:,:,1] + ux[:,:,0] + ux[:,:,1] + 1).reshape(sample_num, -1, 1)\n",
    "\n",
    "ux_in = x_in - mx[:,np.newaxis]\n",
    "u_in = (ux_in[:,:,0]*ux_in[:,:,1] + ux_in[:,:,0] + ux_in[:,:,1] + 1).reshape(sample_num, -1, 1)\n",
    "\n",
    "\n",
    "x0 = torch.cat((x,u),2).to(device)\n",
    "G2 = G2.to(device)\n",
    "l2_er = np.zeros(sample_num)\n",
    "for i in range(sample_num):\n",
    "    density = net1(x0[i].reshape(2000,3,1)).reshape(-1,1)\n",
    "    u0_in = (G2[i]@density).reshape(-1).cpu().detach()\n",
    "    l2_er[i] = ((u_in[i].reshape(-1)-u0_in).norm()/(u_in[i].reshape(-1)).norm()).numpy()"
   ]
  },
  {
   "cell_type": "code",
   "execution_count": 128,
   "id": "52cfe786-1aa2-481d-9e16-2ec3956fe5b9",
   "metadata": {},
   "outputs": [
    {
     "name": "stderr",
     "output_type": "stream",
     "text": [
      "100%|██████████| 2800/2800 [00:08<00:00, 325.03it/s]\n"
     ]
    }
   ],
   "source": [
    "from scipy import io\n",
    "from scipy.io import loadmat\n",
    "\n",
    "sample_num = 2800\n",
    "train_data_x = np.zeros((sample_num,5,128,128))\n",
    "train_data_y = np.zeros((sample_num,1,128,128))\n",
    "normal_test0 = np.zeros((sample_num, 2000, 2))\n",
    "tangent = np.zeros((sample_num, 2000, 2))\n",
    "x_test0 = np.zeros((sample_num, 2000, 2))\n",
    "\n",
    "u_bd = np.zeros((sample_num,2000))\n",
    "\n",
    "iidx = [i for i in range(600)] + [1900 + i for i in range(600)] +\\\n",
    "    [3800 + i for i in range(600)] + [5700 + i for i in range(600)] +\\\n",
    "    [i for i in range(7600,8000)]\n",
    "i = 0\n",
    "for k in tqdm(iidx):\n",
    "    data = loadmat(f'./FNO_test/FNO_data/fno_data_smooth/{k+1}.mat')\n",
    "    position = data['fp']\n",
    "    position = data['fd']>0.005\n",
    "    \n",
    "    train_data_x[i,0,:,:] = data['fx']  \n",
    "    train_data_x[i,1,:,:] = data['fy']        \n",
    "    train_data_x[i,2,:,:] = position\n",
    "    #train_data_x[i,3,:,:] = data['fb']   \n",
    "    train_data_x[i,4,:,:] = data['fd']\n",
    "    normal_test0[i,:,:] = data['normal']\n",
    "    tangent[i,:,:] = data['r']\n",
    "    x_test0[i,:,:] = data['x']\n",
    "    \n",
    "    t = np.linspace(0,2*np.pi*(1-1/2000),2000)\n",
    "    a1,a2,a3,a4 = np.random.rand(4)*2-1\n",
    "    u_bd[i] = a1*np.sin(np.pi*t) + a2*np.sin(2*np.pi*t) + \\\n",
    "            a3*np.sin(3*np.pi*t) + a4*np.sin(4*np.pi*t)\n",
    "    \n",
    "    idx = data['fid']\n",
    "    idx[idx<1] = idx[idx<1] + 1\n",
    "    train_data_x[i,3,:,:] = u_bd[i][idx-1] * position\n",
    "    i = i + 1\n",
    "h_test0 = torch.tensor(np.sqrt((tangent**2).sum(axis=2)).reshape(sample_num,-1,1))\n",
    "x_test0 = torch.tensor(x_test0)\n",
    "normal_test0 = torch.tensor(normal_test0)\n",
    "#G2 = G_bd_smooth(x, h, normal)\n"
   ]
  },
  {
   "cell_type": "code",
   "execution_count": 253,
   "id": "038b6a57-6292-4510-97f3-fb7010fc632e",
   "metadata": {},
   "outputs": [
    {
     "name": "stderr",
     "output_type": "stream",
     "text": [
      "100%|██████████| 1/1 [00:00<00:00,  1.67it/s]\n"
     ]
    }
   ],
   "source": [
    "# test process\n",
    "\n",
    "st , num = 2720,1\n",
    "x1_sd = torch.tensor(train_data_x[0,0,:,:].reshape(1,-1))\n",
    "x2_sd = torch.tensor(train_data_x[0,1,:,:].reshape(1,-1))\n",
    "x_st = torch.cat((x1_sd,x2_sd),0).transpose(0,1)\n",
    "l2_er = np.zeros(num)\n",
    "for i0 in tqdm(range(st, st+num)):\n",
    "    i = i0\n",
    "    x = x_test0[i:i+1].float()\n",
    "    h = h_test0[i:i+1].float()\n",
    "    normal = normal_test0[i:i+1].float()\n",
    "    pos = train_data_x[i,4,:,:].reshape(-1)\n",
    "    x_in = x_st[pos>0.001].reshape(1,-1,2).float()\n",
    "    G2 = G_in_smooth(x,h,normal,x_in)\n",
    "\n",
    "    mx = x.mean(axis=1)\n",
    "    ux = x - mx[:,np.newaxis]\n",
    "    u = (ux[:,:,0]*ux[:,:,1] + ux[:,:,0] + ux[:,:,1] + 1).reshape(1, -1, 1)\n",
    "\n",
    "    ux_in = x_in - mx[:,np.newaxis]\n",
    "    u_in = (ux_in[:,:,0]*ux_in[:,:,1] + ux_in[:,:,0] + ux_in[:,:,1] + 1).reshape(1, -1, 1)\n",
    "\n",
    "    x0 = torch.cat((x,u),2).to(device)\n",
    "    G2 = G2.to(device)\n",
    "    \n",
    "    \n",
    "    density = net1(x0[0].reshape(2000,3,1)).reshape(-1,1)\n",
    "    u0_in = (G2[0]@density).reshape(-1).cpu().detach()\n",
    "    l2_er[i-st] = ((u_in[0].reshape(-1)-u0_in).norm()/(u_in[0].reshape(-1)).norm()).numpy()\n"
   ]
  },
  {
   "cell_type": "code",
   "execution_count": 252,
   "id": "91e10f2f-44dd-4d50-bafc-c3bc957fcffa",
   "metadata": {},
   "outputs": [
    {
     "data": {
      "text/plain": [
       "(0.021524176374077796,\n",
       " array([0.01457703, 0.02228476, 0.02162942, 0.01585028, 0.02522241,\n",
       "        0.01684425, 0.01240205, 0.03010909, 0.01887632, 0.02006353,\n",
       "        0.01332241, 0.02916192, 0.03522212, 0.03018752, 0.01572241,\n",
       "        0.01047093, 0.02509981, 0.01138613, 0.0271899 , 0.03187835,\n",
       "        0.01723174, 0.03168765, 0.02808164, 0.01590269, 0.01770003]))"
      ]
     },
     "execution_count": 252,
     "metadata": {},
     "output_type": "execute_result"
    }
   ],
   "source": [
    "# print l2 error\n",
    "np.mean(l2_er),l2_er"
   ]
  },
  {
   "cell_type": "code",
   "execution_count": 127,
   "id": "518ab0c8-8afa-415a-aa0c-c7d0ba6a487e",
   "metadata": {
    "collapsed": true,
    "jupyter": {
     "outputs_hidden": true
    },
    "tags": []
   },
   "outputs": [
    {
     "ename": "IndexError",
     "evalue": "index 452 is out of bounds for dimension 0 with size 400",
     "output_type": "error",
     "traceback": [
      "\u001b[0;31m---------------------------------------------------------------------------\u001b[0m",
      "\u001b[0;31mIndexError\u001b[0m                                Traceback (most recent call last)",
      "Cell \u001b[0;32mIn [127], line 4\u001b[0m\n\u001b[1;32m      1\u001b[0m sample_num \u001b[38;5;241m=\u001b[39m \u001b[38;5;241m25\u001b[39m\n\u001b[1;32m      2\u001b[0m sample \u001b[38;5;241m=\u001b[39m np\u001b[38;5;241m.\u001b[39mrandom\u001b[38;5;241m.\u001b[39mrandint(\u001b[38;5;241m400\u001b[39m,\u001b[38;5;241m500\u001b[39m,sample_num)\n\u001b[0;32m----> 4\u001b[0m x \u001b[38;5;241m=\u001b[39m \u001b[43mx_test\u001b[49m\u001b[43m[\u001b[49m\u001b[43msample\u001b[49m\u001b[43m]\u001b[49m\n\u001b[1;32m      5\u001b[0m r \u001b[38;5;241m=\u001b[39m r_test[sample]\n\u001b[1;32m      6\u001b[0m h \u001b[38;5;241m=\u001b[39m (r\u001b[38;5;241m*\u001b[39m\u001b[38;5;241m*\u001b[39m\u001b[38;5;241m2\u001b[39m)\u001b[38;5;241m.\u001b[39msum(axis\u001b[38;5;241m=\u001b[39m\u001b[38;5;241m2\u001b[39m)\u001b[38;5;241m.\u001b[39msqrt()\u001b[38;5;241m.\u001b[39mreshape(sample_num,\u001b[38;5;241m-\u001b[39m\u001b[38;5;241m1\u001b[39m,\u001b[38;5;241m1\u001b[39m)\n",
      "\u001b[0;31mIndexError\u001b[0m: index 452 is out of bounds for dimension 0 with size 400"
     ]
    }
   ],
   "source": [
    "sample_num = 25\n",
    "sample = np.random.randint(400,500,sample_num)\n",
    "\n",
    "x = x_test[sample]\n",
    "r = r_test[sample]\n",
    "h = (r**2).sum(axis=2).sqrt().reshape(sample_num,-1,1)\n",
    "normal = normal_test0[sample]\n",
    "x_in = x_in_test[sample]\n",
    "G2 = G_in_smooth(x,h,normal,x_in)\n",
    "\n",
    "mx = x.mean(axis=1)\n",
    "ux = x - mx[:,np.newaxis]\n",
    "u = (ux[:,:,0]*ux[:,:,1] + ux[:,:,0] + ux[:,:,1] + 1).reshape(sample_num, -1, 1)\n",
    "\n",
    "ux_in = x_in - mx[:,np.newaxis]\n",
    "u_in = (ux_in[:,:,0]*ux_in[:,:,1] + ux_in[:,:,0] + ux_in[:,:,1] + 1).reshape(sample_num, -1, 1)\n",
    "\n",
    "x0 = torch.cat((x,u),2).to(device)\n",
    "G2 = G2.to(device)\n",
    "l2_er = np.zeros(sample_num)\n",
    "for i in range(sample_num):\n",
    "    density = net1(x0[i].reshape(2000,3,1)).reshape(-1,1)\n",
    "    u0_in = (G2[i]@density).reshape(-1).cpu().detach()\n",
    "    l2_er[i] = ((u_in[i].reshape(-1)-u0_in).norm()/(u_in[i].reshape(-1)).norm()).numpy()"
   ]
  },
  {
   "cell_type": "code",
   "execution_count": 250,
   "id": "51bd9f07-f3cc-4e14-97ee-9555b653f576",
   "metadata": {},
   "outputs": [
    {
     "data": {
      "text/plain": [
       "(0.02414226805791259,\n",
       " array([0.00937541, 0.01378182, 0.01175915, 0.03382413, 0.02093924,\n",
       "        0.07934065, 0.03163229, 0.03002285, 0.01315862, 0.01776612,\n",
       "        0.02351773, 0.01085935, 0.09438502, 0.03830693, 0.00934535,\n",
       "        0.03086432, 0.01023096, 0.00932941, 0.00648666, 0.01195244,\n",
       "        0.03614592, 0.00730816, 0.02020383, 0.0186325 , 0.01438783]))"
      ]
     },
     "execution_count": 250,
     "metadata": {},
     "output_type": "execute_result"
    }
   ],
   "source": [
    "np.mean(l2_er),l2_er"
   ]
  },
  {
   "cell_type": "code",
   "execution_count": 254,
   "id": "a546cd12-4899-4faa-a54c-4d7bf2474848",
   "metadata": {},
   "outputs": [
    {
     "data": {
      "image/png": "[encoded data removed]",
      "text/plain": [
       "<Figure size 640x480 with 1 Axes>"
      ]
     },
     "metadata": {},
     "output_type": "display_data"
    }
   ],
   "source": [
    "plt.plot(x[0,:,0],x[0,:,1])\n",
    "plt.scatter(x_in[0,:,0], x_in[0,:,1])\n",
    "\n",
    "smooth = {'x_bd':x[0].numpy(),'u_bd':u.squeeze().numpy(),\n",
    "          'u_exa':u_in.squeeze().numpy(),'u_num':u0_in.numpy(), 'x_in':x_in.squeeze().numpy()}\n",
    "io.savemat('./FNO_test/smooth4_1.mat', smooth)\n"
   ]
  },
  {
   "cell_type": "markdown",
   "id": "e9b02f37-315d-4ef2-95bb-0b52c4cdf277",
   "metadata": {},
   "source": [
    "## polygon case"
   ]
  },
  {
   "cell_type": "code",
   "execution_count": 8,
   "id": "5a63d4d9-672e-4834-bc24-bdf185a2a024",
   "metadata": {},
   "outputs": [],
   "source": [
    "# generating data\n",
    "net_num = 2\n",
    "if net_num == 1:\n",
    "    net2 = mynet1.PointNet(3,1)\n",
    "elif net_num == 2:\n",
    "    net2 = mynet2.PointNet(3,1)\n",
    "elif net_num == 4:\n",
    "    net2 = mynet4.PointNet1(2,1,1)\n",
    "elif net_num == 5:\n",
    "    net2 = mynet5.PointNet()\n",
    "elif net_num == 6:\n",
    "    net2 = FNO1d(n_modes=(6, 6), hidden_channels=64,\n",
    "                in_channels=3, out_channels=1, n_modes_height=6)    \n",
    "problem_type = 'Poisson'\n",
    "in_or_out = 'in'\n",
    "a1 = b1 = 0.8\n",
    "a2 = b2 = 0.2\n",
    "ver_num = 8\n",
    "N = 2000\n",
    "polygon_num = 10\n",
    "sol_type = np.zeros(polygon_num)+1\n",
    "train = True\n",
    "num_in = 0\n",
    "\n",
    "vertex_x,x,G2,u,x_in,G2_in,u_in = GD.main(ver_num,N,polygon_num,sol_type,a1,a2,b1,b2,problem_type,in_or_out,train,num_in)\n",
    "\n",
    "x0 = torch.cat((x,u),2).to(device)\n",
    "net1 = net1.to(device)\n",
    "G2 = G2.to(device)\n",
    "u = u.to(device)"
   ]
  },
  {
   "cell_type": "code",
   "execution_count": null,
   "id": "38df62b7-80c5-4209-b6c3-38f706d99fb9",
   "metadata": {
    "tags": []
   },
   "outputs": [
    {
     "name": "stderr",
     "output_type": "stream",
     "text": [
      " 22%|██▏       | 449/2000 [03:10<01:49, 14.13it/s]  "
     ]
    }
   ],
   "source": [
    "## unsupervised learning\n",
    "polygon_num = 50\n",
    "net2 = net2.to(device)\n",
    "Epoch = 2000\n",
    "optimzer1 = torch.optim.Adam(net2.parameters(net2),lr=0.0001)\n",
    "loss_all = np.zeros(Epoch+1)\n",
    "num_in = 0\n",
    "for epoch in tqdm(range(Epoch)):\n",
    "    \n",
    "    if (epoch)%50==0:\n",
    "        #num = int(torch.rand(1)*10)\n",
    "        sol_type = np.zeros(polygon_num)+1\n",
    "        vertex_x,x,G2,u,x_in,G2_in,u_in = \\\n",
    "            GD.main(ver_num,N,polygon_num,sol_type,a1,a2,b1,b2,problem_type,in_or_out,train,num_in)        \n",
    "        x0 = (torch.cat((x,u),2)).to(device)\n",
    "        #dist = (x**2).sum(axis=2).reshape(polygon_num,-1,1)\n",
    "        #polar = torch.atan(x[:,:,1]/x[:,:,0]).reshape(polygon_num,-1,1)\n",
    "        \n",
    "        #x_0, x_1 = x[:,:,0].reshape(polygon_num,-1,1), x[:,:,1].reshape(polygon_num,-1,1)\n",
    "        #x0 = torch.cat((torch.cat((torch.cat((x0,dist),2),polar),2),torch.sin(np.pi*x_0)),2)\n",
    "        #x0 = (torch.cat((x0,torch.sin(np.pi*x_1)),2)).to(device)\n",
    "        G2 = G2.to(device)\n",
    "        u = u.to(device)        \n",
    "    \n",
    "    loss = 0\n",
    "    \n",
    "    #for i in range(num*50,num*50+50):\n",
    "    h = (net2(x0.transpose(1,2))).reshape(polygon_num,-1)\n",
    "    for i in range(polygon_num):\n",
    "        G2_0 = G2[i]\n",
    "        u0 = u[i].reshape(-1)\n",
    "        loss = loss + torch.mean(torch.pow((G2_0@h[i]-u0),2))\n",
    "\n",
    "    optimzer1.zero_grad()\n",
    "    loss.backward()\n",
    "    optimzer1.step()\n",
    "    loss_all[epoch] = loss.cpu().detach().numpy() \n",
    "    #if epoch%200==0:\n",
    "    #    save_variable(loss,'current_loss')"
   ]
  },
  {
   "cell_type": "code",
   "execution_count": 157,
   "id": "9c13ed66-1c35-4a93-8c75-37b1270126e0",
   "metadata": {},
   "outputs": [
    {
     "data": {
      "text/plain": [
       "(array([0.04879719, 0.01945317, 0.0147261 , 0.01777593, 0.01460506,\n",
       "        0.01113595, 0.01494333, 0.01416154, 0.00928565, 0.02939475,\n",
       "        0.02017271, 0.02439168, 0.0146599 , 0.01515962, 0.02050115,\n",
       "        0.01625652, 0.02158539, 0.01437722, 0.01216432, 0.01177209,\n",
       "        0.02227774, 0.01409088, 0.01980106, 0.00706597, 0.03324455,\n",
       "        0.02955586, 0.01132545, 0.01062068, 0.07429172, 0.02137393,\n",
       "        0.05817229, 0.01229747, 0.03656689, 0.01317772, 0.05996732,\n",
       "        0.01835516, 0.022044  , 0.11908126, 0.01751392, 0.00959682,\n",
       "        0.01540213, 0.02528696, 0.01920387, 0.01752998, 0.01352161,\n",
       "        0.05400305, 0.01569828, 0.03896255, 0.01150967, 0.02362763,\n",
       "        0.01178907, 0.01501991, 0.01356291, 0.03141765, 0.01123517,\n",
       "        0.01778858, 0.04059872, 0.0076322 , 0.01666557, 0.03044499,\n",
       "        0.01504677, 0.01179945, 0.0181369 , 0.01924353, 0.01311642,\n",
       "        0.018497  , 0.01241668, 0.01604516, 0.02334618, 0.02152808,\n",
       "        0.05060941, 0.02658637, 0.01172111, 0.01098486, 0.01155648,\n",
       "        0.02743238, 0.01743327, 0.02242978, 0.01725427, 0.0220188 ,\n",
       "        0.00745213, 0.01747041, 0.01413808, 0.0199757 , 0.02444299,\n",
       "        0.02953662, 0.00728613, 0.01400881, 0.24299382, 0.02297924,\n",
       "        0.01800626, 0.01168317, 0.05386095, 0.01300345, 0.01866065,\n",
       "        0.02831137, 0.00994665, 0.01538043, 0.01703583, 0.02771764]),\n",
       " 0.024077336941845714)"
      ]
     },
     "execution_count": 157,
     "metadata": {},
     "output_type": "execute_result"
    }
   ],
   "source": [
    "polygon_in = 100\n",
    "num_in = 1000\n",
    "sol_type = np.zeros(polygon_in)+1\n",
    "ver_num = 8\n",
    "vertex_x,x,G2,u,x_in,G2_in,u_in = GD.main(ver_num,4000,polygon_in,sol_type,a1,a2,b1,b2,problem_type,in_or_out,train,num_in)\n",
    "x0 = (torch.cat((x,u),2)).to(device)\n",
    "l2_err =  np.zeros(polygon_in)\n",
    "\n",
    "h = (net2(x0.transpose(1,2))).reshape(polygon_in,-1)\n",
    "for i in range(polygon_in):\n",
    "    G2_0 = G2_in[i].to(device)\n",
    "    u0 = u_in[i].reshape(-1).to(device)\n",
    "    u_num = -G2_0@h[i]\n",
    "    l2_err[i] = ((u_num-u0).norm()/(u0).norm()).cpu().detach().numpy()\n",
    "l2_err, np.mean(l2_err)        "
   ]
  }
 ],
 "metadata": {
  "kernelspec": {
   "display_name": "Python 3 (ipykernel)",
   "language": "python",
   "name": "python3"
  },
  "language_info": {
   "codemirror_mode": {
    "name": "ipython",
    "version": 3
   },
   "file_extension": ".py",
   "mimetype": "text/x-python",
   "name": "python",
   "nbconvert_exporter": "python",
   "pygments_lexer": "ipython3",
   "version": "3.9.12"
  }
 },
 "nbformat": 4,
 "nbformat_minor": 5
}
